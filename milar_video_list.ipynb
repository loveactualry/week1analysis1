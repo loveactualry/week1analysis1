{
 "cells": [
  {
   "cell_type": "code",
   "execution_count": 1,
   "metadata": {},
   "outputs": [],
   "source": [
    "# package import\n",
    "from selenium import webdriver\n",
    "from selenium.webdriver.common.keys import Keys\n",
    "from time import localtime, strftime\n",
    "import pandas as pd\n",
    "from bs4 import BeautifulSoup\n"
   ]
  },
  {
   "cell_type": "code",
   "execution_count": 2,
   "metadata": {},
   "outputs": [],
   "source": [
    "# driver get\n",
    "driver = webdriver.Chrome('C:/Users/loveactualry/chromedriver.exe')\n",
    "driver.get('https://www.youtube.com/c/%EB%AA%A9%EB%8F%99%EC%84%B1%EB%8B%B9%EC%B2%AD%EB%85%84%EB%B0%80%EC%95%8C%EC%84%B1%EA%B0%80%EB%8C%80/videos')\n"
   ]
  },
  {
   "cell_type": "code",
   "execution_count": 25,
   "metadata": {},
   "outputs": [],
   "source": [
    "# 귀찮아서 스크롤 다 내리고 정보 가져옴\n",
    "page = driver.page_source"
   ]
  },
  {
   "cell_type": "code",
   "execution_count": 8,
   "metadata": {},
   "outputs": [],
   "source": [
    "# 파싱\n",
    "soup = BeautifulSoup(page, 'lxml')"
   ]
  },
  {
   "cell_type": "code",
   "execution_count": 15,
   "metadata": {},
   "outputs": [],
   "source": [
    "# title check\n",
    "all_title = soup.find_all('a','yt-simple-endpoint style-scope ytd-grid-video-renderer')\n",
    "title = [soup.find_all('a','yt-simple-endpoint style-scope ytd-grid-video-renderer')[n].string for n in range(0,len(all_title))]"
   ]
  },
  {
   "cell_type": "code",
   "execution_count": 16,
   "metadata": {},
   "outputs": [],
   "source": [
    "#조회수, 업로드\n",
    "cnt = soup.find_all('span','style-scope ytd-grid-video-renderer')\n",
    "view_num = [soup.find_all('span','style-scope ytd-grid-video-renderer')[n].string for n in range(0,len(cnt))]"
   ]
  },
  {
   "cell_type": "code",
   "execution_count": 21,
   "metadata": {},
   "outputs": [],
   "source": [
    "# 리스트 \n",
    "youtube_video_list = []\n",
    "\n",
    "x = 0\n",
    "y = 1\n",
    "\n",
    "for i in range(0, len(all_title)):\n",
    "    nrow = []\n",
    "    nrow.append(title[i])\n",
    "    nrow.append(view_num[x])\n",
    "    x += 2\n",
    "    nrow.append(view_num[y])\n",
    "    y += 2\n",
    "    youtube_video_list.append(nrow)\n",
    "\n"
   ]
  },
  {
   "cell_type": "code",
   "execution_count": 22,
   "metadata": {},
   "outputs": [
    {
     "data": {
      "text/plain": [
       "[['[목동성당 밀알성가대] 사명', '조회수 355회', '2개월 전'],\n",
       " ['[목동성당 밀알성가대] 사랑을 받았습니다 fr.한덕훈 - 김종욱 미카엘 주임신부님. 신동원 요셉 부주임 신부님. 김보습 바오로 새사제 송가',\n",
       "  '조회수 750회',\n",
       "  '6개월 전'],\n",
       " ['[목동성당 밀알성가대] 꽃 - 김보습 바오로 신부님 새사제 축하곡', '조회수 884회', '7개월 전'],\n",
       " ['[목동성당 밀알성가대] 살게하소서 - 이형진 보나벤뚜라', '조회수 487회', '7개월 전'],\n",
       " ['[목동성당 밀알성가대] 이는 내 사랑하는 아들이니', '조회수 442회', '8개월 전']]"
      ]
     },
     "execution_count": 22,
     "metadata": {},
     "output_type": "execute_result"
    }
   ],
   "source": [
    "# check\n",
    "youtube_video_list[0:5]"
   ]
  },
  {
   "cell_type": "code",
   "execution_count": 23,
   "metadata": {},
   "outputs": [],
   "source": [
    "# 판다스\n",
    "data = pd.DataFrame(youtube_video_list)"
   ]
  },
  {
   "cell_type": "code",
   "execution_count": 24,
   "metadata": {},
   "outputs": [],
   "source": [
    "# csv, encoding\n",
    "data.to_csv('newlist.csv', encoding='euc-kr')"
   ]
  }
 ],
 "metadata": {
  "kernelspec": {
   "display_name": "Python 3.8.1 64-bit",
   "language": "python",
   "name": "python38164bit29fe6e30e7fe4f7baf2e02199515301e"
  },
  "language_info": {
   "codemirror_mode": {
    "name": "ipython",
    "version": 3
   },
   "file_extension": ".py",
   "mimetype": "text/x-python",
   "name": "python",
   "nbconvert_exporter": "python",
   "pygments_lexer": "ipython3",
   "version": "3.8.1"
  }
 },
 "nbformat": 4,
 "nbformat_minor": 4
}
