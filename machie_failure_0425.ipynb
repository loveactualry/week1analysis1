{
 "cells": [
  {
   "cell_type": "code",
   "execution_count": 140,
   "metadata": {},
   "outputs": [],
   "source": [
    "import pandas as pd\n",
    "\n",
    "\n",
    "import time\n",
    "import warnings\n",
    "\n",
    "warnings.filterwarnings('ignore')"
   ]
  },
  {
   "cell_type": "code",
   "execution_count": 141,
   "metadata": {},
   "outputs": [],
   "source": [
    "pd.options.display.max_columns = 999"
   ]
  },
  {
   "cell_type": "code",
   "execution_count": 142,
   "metadata": {},
   "outputs": [],
   "source": [
    "train = pd.read_csv('train.csv')\n",
    "test = pd.read_csv('test.csv')"
   ]
  },
  {
   "cell_type": "code",
   "execution_count": 143,
   "metadata": {},
   "outputs": [
    {
     "data": {
      "text/plain": [
       "Index(['ID', 'Date', 'Temperature', 'Humidity', 'Operator', 'Measure1',\n",
       "       'Measure2', 'Measure3', 'Measure4', 'Measure5', 'Measure6', 'Measure7',\n",
       "       'Measure8', 'Measure9', 'Measure10', 'Measure11', 'Measure12',\n",
       "       'Measure13', 'Measure14', 'Measure15', 'Hours Since Previous Failure',\n",
       "       'Failure', '?Date.year', '?Date.month', '?Date.day-of-month',\n",
       "       '?Date.day-of-week', '?Date.hour', '?Date.minute', '?Date.second'],\n",
       "      dtype='object')"
      ]
     },
     "execution_count": 143,
     "metadata": {},
     "output_type": "execute_result"
    }
   ],
   "source": [
    "train.columns"
   ]
  },
  {
   "cell_type": "code",
   "execution_count": 144,
   "metadata": {},
   "outputs": [
    {
     "data": {
      "text/plain": [
       "Index(['ID', 'Date', 'Temperature', 'Humidity', 'Operator', 'Measure1',\n",
       "       'Measure2', 'Measure3', 'Measure4', 'Measure5', 'Measure6', 'Measure7',\n",
       "       'Measure8', 'Measure9', 'Measure10', 'Measure11', 'Measure12',\n",
       "       'Measure13', 'Measure14', 'Measure15', 'Hours Since Previous Failure',\n",
       "       '?Date.year', '?Date.month', '?Date.day-of-month', '?Date.day-of-week',\n",
       "       '?Date.hour', '?Date.minute', '?Date.second'],\n",
       "      dtype='object')"
      ]
     },
     "execution_count": 144,
     "metadata": {},
     "output_type": "execute_result"
    }
   ],
   "source": [
    "test.columns"
   ]
  },
  {
   "cell_type": "code",
   "execution_count": 145,
   "metadata": {},
   "outputs": [
    {
     "data": {
      "text/plain": [
       "No     7830\n",
       "Yes      75\n",
       "Name: Failure, dtype: int64"
      ]
     },
     "execution_count": 145,
     "metadata": {},
     "output_type": "execute_result"
    }
   ],
   "source": [
    "train.Failure.value_counts()"
   ]
  },
  {
   "cell_type": "code",
   "execution_count": 146,
   "metadata": {},
   "outputs": [
    {
     "name": "stdout",
     "output_type": "stream",
     "text": [
      "Ratio of Failure 0.95 %\n"
     ]
    }
   ],
   "source": [
    "print('Ratio of Failure', round(train.Failure.value_counts()[1]/len(train) * 100, 2), '%')"
   ]
  },
  {
   "cell_type": "code",
   "execution_count": 147,
   "metadata": {},
   "outputs": [
    {
     "data": {
      "image/png": "[encoded data removed]",
      "text/plain": [
       "<Figure size 432x288 with 1 Axes>"
      ]
     },
     "metadata": {
      "needs_background": "light"
     },
     "output_type": "display_data"
    }
   ],
   "source": [
    "import seaborn as sns\n",
    "import matplotlib.pyplot as plt\n",
    "\n",
    "sns.countplot('Failure', data=train)\n",
    "plt.title('Failure Distributions \\n (No-Failure || Failure)', fontsize=12);"
   ]
  },
  {
   "cell_type": "code",
   "execution_count": 148,
   "metadata": {},
   "outputs": [
    {
     "data": {
      "text/html": [
       "<div>\n",
       "<style scoped>\n",
       "    .dataframe tbody tr th:only-of-type {\n",
       "        vertical-align: middle;\n",
       "    }\n",
       "\n",
       "    .dataframe tbody tr th {\n",
       "        vertical-align: top;\n",
       "    }\n",
       "\n",
       "    .dataframe thead th {\n",
       "        text-align: right;\n",
       "    }\n",
       "</style>\n",
       "<table border=\"1\" class=\"dataframe\">\n",
       "  <thead>\n",
       "    <tr style=\"text-align: right;\">\n",
       "      <th></th>\n",
       "      <th>ID</th>\n",
       "      <th>Date</th>\n",
       "      <th>Temperature</th>\n",
       "      <th>Humidity</th>\n",
       "      <th>Operator</th>\n",
       "      <th>Measure1</th>\n",
       "      <th>Measure2</th>\n",
       "      <th>Measure3</th>\n",
       "      <th>Measure4</th>\n",
       "      <th>Measure5</th>\n",
       "      <th>Measure6</th>\n",
       "      <th>Measure7</th>\n",
       "      <th>Measure8</th>\n",
       "      <th>Measure9</th>\n",
       "      <th>Measure10</th>\n",
       "      <th>Measure11</th>\n",
       "      <th>Measure12</th>\n",
       "      <th>Measure13</th>\n",
       "      <th>Measure14</th>\n",
       "      <th>Measure15</th>\n",
       "      <th>Hours Since Previous Failure</th>\n",
       "      <th>Failure</th>\n",
       "      <th>?Date.year</th>\n",
       "      <th>?Date.month</th>\n",
       "      <th>?Date.day-of-month</th>\n",
       "      <th>?Date.day-of-week</th>\n",
       "      <th>?Date.hour</th>\n",
       "      <th>?Date.minute</th>\n",
       "      <th>?Date.second</th>\n",
       "      <th>failure</th>\n",
       "    </tr>\n",
       "  </thead>\n",
       "  <tbody>\n",
       "    <tr>\n",
       "      <th>0</th>\n",
       "      <td>1</td>\n",
       "      <td>01-01-2016 00:00</td>\n",
       "      <td>67</td>\n",
       "      <td>82</td>\n",
       "      <td>Operator1</td>\n",
       "      <td>291</td>\n",
       "      <td>1</td>\n",
       "      <td>1</td>\n",
       "      <td>1041</td>\n",
       "      <td>846</td>\n",
       "      <td>334</td>\n",
       "      <td>706</td>\n",
       "      <td>1086</td>\n",
       "      <td>256</td>\n",
       "      <td>1295</td>\n",
       "      <td>766</td>\n",
       "      <td>968</td>\n",
       "      <td>1185</td>\n",
       "      <td>1355</td>\n",
       "      <td>1842</td>\n",
       "      <td>90</td>\n",
       "      <td>No</td>\n",
       "      <td>2016</td>\n",
       "      <td>1</td>\n",
       "      <td>1</td>\n",
       "      <td>5</td>\n",
       "      <td>0</td>\n",
       "      <td>0</td>\n",
       "      <td>0</td>\n",
       "      <td>0</td>\n",
       "    </tr>\n",
       "    <tr>\n",
       "      <th>1</th>\n",
       "      <td>2</td>\n",
       "      <td>01-01-2016 01:00</td>\n",
       "      <td>68</td>\n",
       "      <td>77</td>\n",
       "      <td>Operator1</td>\n",
       "      <td>1180</td>\n",
       "      <td>1</td>\n",
       "      <td>1</td>\n",
       "      <td>1915</td>\n",
       "      <td>1194</td>\n",
       "      <td>637</td>\n",
       "      <td>1093</td>\n",
       "      <td>524</td>\n",
       "      <td>919</td>\n",
       "      <td>245</td>\n",
       "      <td>403</td>\n",
       "      <td>723</td>\n",
       "      <td>1446</td>\n",
       "      <td>719</td>\n",
       "      <td>748</td>\n",
       "      <td>91</td>\n",
       "      <td>No</td>\n",
       "      <td>2016</td>\n",
       "      <td>1</td>\n",
       "      <td>1</td>\n",
       "      <td>5</td>\n",
       "      <td>1</td>\n",
       "      <td>0</td>\n",
       "      <td>0</td>\n",
       "      <td>0</td>\n",
       "    </tr>\n",
       "    <tr>\n",
       "      <th>2</th>\n",
       "      <td>3</td>\n",
       "      <td>01-01-2016 02:00</td>\n",
       "      <td>64</td>\n",
       "      <td>76</td>\n",
       "      <td>Operator1</td>\n",
       "      <td>1406</td>\n",
       "      <td>1</td>\n",
       "      <td>1</td>\n",
       "      <td>511</td>\n",
       "      <td>1577</td>\n",
       "      <td>1121</td>\n",
       "      <td>1948</td>\n",
       "      <td>1882</td>\n",
       "      <td>1301</td>\n",
       "      <td>273</td>\n",
       "      <td>1927</td>\n",
       "      <td>1123</td>\n",
       "      <td>717</td>\n",
       "      <td>1518</td>\n",
       "      <td>1689</td>\n",
       "      <td>92</td>\n",
       "      <td>No</td>\n",
       "      <td>2016</td>\n",
       "      <td>1</td>\n",
       "      <td>1</td>\n",
       "      <td>5</td>\n",
       "      <td>2</td>\n",
       "      <td>0</td>\n",
       "      <td>0</td>\n",
       "      <td>0</td>\n",
       "    </tr>\n",
       "    <tr>\n",
       "      <th>3</th>\n",
       "      <td>4</td>\n",
       "      <td>01-01-2016 03:00</td>\n",
       "      <td>63</td>\n",
       "      <td>80</td>\n",
       "      <td>Operator1</td>\n",
       "      <td>550</td>\n",
       "      <td>1</td>\n",
       "      <td>1</td>\n",
       "      <td>1754</td>\n",
       "      <td>1834</td>\n",
       "      <td>1413</td>\n",
       "      <td>1151</td>\n",
       "      <td>945</td>\n",
       "      <td>1312</td>\n",
       "      <td>1494</td>\n",
       "      <td>1755</td>\n",
       "      <td>1434</td>\n",
       "      <td>502</td>\n",
       "      <td>1336</td>\n",
       "      <td>711</td>\n",
       "      <td>93</td>\n",
       "      <td>No</td>\n",
       "      <td>2016</td>\n",
       "      <td>1</td>\n",
       "      <td>1</td>\n",
       "      <td>5</td>\n",
       "      <td>3</td>\n",
       "      <td>0</td>\n",
       "      <td>0</td>\n",
       "      <td>0</td>\n",
       "    </tr>\n",
       "    <tr>\n",
       "      <th>4</th>\n",
       "      <td>5</td>\n",
       "      <td>01-01-2016 04:00</td>\n",
       "      <td>65</td>\n",
       "      <td>81</td>\n",
       "      <td>Operator1</td>\n",
       "      <td>1928</td>\n",
       "      <td>1</td>\n",
       "      <td>2</td>\n",
       "      <td>1326</td>\n",
       "      <td>1082</td>\n",
       "      <td>233</td>\n",
       "      <td>1441</td>\n",
       "      <td>1736</td>\n",
       "      <td>1033</td>\n",
       "      <td>1549</td>\n",
       "      <td>802</td>\n",
       "      <td>1819</td>\n",
       "      <td>1616</td>\n",
       "      <td>1507</td>\n",
       "      <td>507</td>\n",
       "      <td>94</td>\n",
       "      <td>No</td>\n",
       "      <td>2016</td>\n",
       "      <td>1</td>\n",
       "      <td>1</td>\n",
       "      <td>5</td>\n",
       "      <td>4</td>\n",
       "      <td>0</td>\n",
       "      <td>0</td>\n",
       "      <td>0</td>\n",
       "    </tr>\n",
       "  </tbody>\n",
       "</table>\n",
       "</div>"
      ],
      "text/plain": [
       "   ID              Date  Temperature  Humidity   Operator  Measure1  Measure2  \\\n",
       "0   1  01-01-2016 00:00           67        82  Operator1       291         1   \n",
       "1   2  01-01-2016 01:00           68        77  Operator1      1180         1   \n",
       "2   3  01-01-2016 02:00           64        76  Operator1      1406         1   \n",
       "3   4  01-01-2016 03:00           63        80  Operator1       550         1   \n",
       "4   5  01-01-2016 04:00           65        81  Operator1      1928         1   \n",
       "\n",
       "   Measure3  Measure4  Measure5  Measure6  Measure7  Measure8  Measure9  \\\n",
       "0         1      1041       846       334       706      1086       256   \n",
       "1         1      1915      1194       637      1093       524       919   \n",
       "2         1       511      1577      1121      1948      1882      1301   \n",
       "3         1      1754      1834      1413      1151       945      1312   \n",
       "4         2      1326      1082       233      1441      1736      1033   \n",
       "\n",
       "   Measure10  Measure11  Measure12  Measure13  Measure14  Measure15  \\\n",
       "0       1295        766        968       1185       1355       1842   \n",
       "1        245        403        723       1446        719        748   \n",
       "2        273       1927       1123        717       1518       1689   \n",
       "3       1494       1755       1434        502       1336        711   \n",
       "4       1549        802       1819       1616       1507        507   \n",
       "\n",
       "   Hours Since Previous Failure Failure  ?Date.year  ?Date.month  \\\n",
       "0                            90      No        2016            1   \n",
       "1                            91      No        2016            1   \n",
       "2                            92      No        2016            1   \n",
       "3                            93      No        2016            1   \n",
       "4                            94      No        2016            1   \n",
       "\n",
       "   ?Date.day-of-month  ?Date.day-of-week  ?Date.hour  ?Date.minute  \\\n",
       "0                   1                  5           0             0   \n",
       "1                   1                  5           1             0   \n",
       "2                   1                  5           2             0   \n",
       "3                   1                  5           3             0   \n",
       "4                   1                  5           4             0   \n",
       "\n",
       "   ?Date.second  failure  \n",
       "0             0        0  \n",
       "1             0        0  \n",
       "2             0        0  \n",
       "3             0        0  \n",
       "4             0        0  "
      ]
     },
     "execution_count": 148,
     "metadata": {},
     "output_type": "execute_result"
    }
   ],
   "source": [
    "# 라벨 인코더 사용\n",
    "\n",
    "from sklearn.preprocessing import LabelEncoder\n",
    "\n",
    "le = LabelEncoder()\n",
    "le.fit(train['Failure'])\n",
    "train['failure'] = le.transform(train['Failure'])\n",
    "train.head()"
   ]
  },
  {
   "cell_type": "code",
   "execution_count": 258,
   "metadata": {},
   "outputs": [
    {
     "data": {
      "text/html": [
       "<div>\n",
       "<style scoped>\n",
       "    .dataframe tbody tr th:only-of-type {\n",
       "        vertical-align: middle;\n",
       "    }\n",
       "\n",
       "    .dataframe tbody tr th {\n",
       "        vertical-align: top;\n",
       "    }\n",
       "\n",
       "    .dataframe thead th {\n",
       "        text-align: right;\n",
       "    }\n",
       "</style>\n",
       "<table border=\"1\" class=\"dataframe\">\n",
       "  <thead>\n",
       "    <tr style=\"text-align: right;\">\n",
       "      <th></th>\n",
       "      <th></th>\n",
       "      <th>Operator</th>\n",
       "      <th>failure</th>\n",
       "    </tr>\n",
       "    <tr>\n",
       "      <th>Operator</th>\n",
       "      <th>failure</th>\n",
       "      <th></th>\n",
       "      <th></th>\n",
       "    </tr>\n",
       "  </thead>\n",
       "  <tbody>\n",
       "    <tr>\n",
       "      <th rowspan=\"2\" valign=\"top\">Operator1</th>\n",
       "      <th>0</th>\n",
       "      <td>NaN</td>\n",
       "      <td>NaN</td>\n",
       "    </tr>\n",
       "    <tr>\n",
       "      <th>1</th>\n",
       "      <td>NaN</td>\n",
       "      <td>NaN</td>\n",
       "    </tr>\n",
       "    <tr>\n",
       "      <th rowspan=\"2\" valign=\"top\">Operator2</th>\n",
       "      <th>0</th>\n",
       "      <td>NaN</td>\n",
       "      <td>NaN</td>\n",
       "    </tr>\n",
       "    <tr>\n",
       "      <th>1</th>\n",
       "      <td>NaN</td>\n",
       "      <td>NaN</td>\n",
       "    </tr>\n",
       "    <tr>\n",
       "      <th rowspan=\"2\" valign=\"top\">Operator3</th>\n",
       "      <th>0</th>\n",
       "      <td>NaN</td>\n",
       "      <td>NaN</td>\n",
       "    </tr>\n",
       "    <tr>\n",
       "      <th>1</th>\n",
       "      <td>NaN</td>\n",
       "      <td>NaN</td>\n",
       "    </tr>\n",
       "    <tr>\n",
       "      <th rowspan=\"2\" valign=\"top\">Operator4</th>\n",
       "      <th>0</th>\n",
       "      <td>NaN</td>\n",
       "      <td>NaN</td>\n",
       "    </tr>\n",
       "    <tr>\n",
       "      <th>1</th>\n",
       "      <td>NaN</td>\n",
       "      <td>NaN</td>\n",
       "    </tr>\n",
       "    <tr>\n",
       "      <th rowspan=\"2\" valign=\"top\">Operator5</th>\n",
       "      <th>0</th>\n",
       "      <td>NaN</td>\n",
       "      <td>NaN</td>\n",
       "    </tr>\n",
       "    <tr>\n",
       "      <th>1</th>\n",
       "      <td>NaN</td>\n",
       "      <td>NaN</td>\n",
       "    </tr>\n",
       "    <tr>\n",
       "      <th rowspan=\"2\" valign=\"top\">Operator6</th>\n",
       "      <th>0</th>\n",
       "      <td>NaN</td>\n",
       "      <td>NaN</td>\n",
       "    </tr>\n",
       "    <tr>\n",
       "      <th>1</th>\n",
       "      <td>NaN</td>\n",
       "      <td>NaN</td>\n",
       "    </tr>\n",
       "    <tr>\n",
       "      <th rowspan=\"2\" valign=\"top\">Operator7</th>\n",
       "      <th>0</th>\n",
       "      <td>NaN</td>\n",
       "      <td>NaN</td>\n",
       "    </tr>\n",
       "    <tr>\n",
       "      <th>1</th>\n",
       "      <td>NaN</td>\n",
       "      <td>NaN</td>\n",
       "    </tr>\n",
       "    <tr>\n",
       "      <th rowspan=\"2\" valign=\"top\">Operator8</th>\n",
       "      <th>0</th>\n",
       "      <td>NaN</td>\n",
       "      <td>NaN</td>\n",
       "    </tr>\n",
       "    <tr>\n",
       "      <th>1</th>\n",
       "      <td>NaN</td>\n",
       "      <td>NaN</td>\n",
       "    </tr>\n",
       "  </tbody>\n",
       "</table>\n",
       "</div>"
      ],
      "text/plain": [
       "                   Operator  failure\n",
       "Operator  failure                   \n",
       "Operator1 0             NaN      NaN\n",
       "          1             NaN      NaN\n",
       "Operator2 0             NaN      NaN\n",
       "          1             NaN      NaN\n",
       "Operator3 0             NaN      NaN\n",
       "          1             NaN      NaN\n",
       "Operator4 0             NaN      NaN\n",
       "          1             NaN      NaN\n",
       "Operator5 0             NaN      NaN\n",
       "          1             NaN      NaN\n",
       "Operator6 0             NaN      NaN\n",
       "          1             NaN      NaN\n",
       "Operator7 0             NaN      NaN\n",
       "          1             NaN      NaN\n",
       "Operator8 0             NaN      NaN\n",
       "          1             NaN      NaN"
      ]
     },
     "execution_count": 258,
     "metadata": {},
     "output_type": "execute_result"
    }
   ],
   "source": [
    "op = train[['Operator','failure']]\n",
    "failure_op = op.groupby(['Operator','failure']).agg({'Operator': 'count'})\n",
    "op_count = op.groupby(['Operator']).agg('count')\n",
    "op_failure = failure_op.div(op_count, level='Operator') * 100\n",
    "failure_op.div(op_count, level='Operator')\n",
    "\n",
    "#op.groupby('Operator').Failure.value_counts()"
   ]
  },
  {
   "cell_type": "code",
   "execution_count": 149,
   "metadata": {},
   "outputs": [
    {
     "data": {
      "text/plain": [
       "((7905, 17), (7905, 1))"
      ]
     },
     "execution_count": 149,
     "metadata": {},
     "output_type": "execute_result"
    }
   ],
   "source": [
    "# 변수 분리\n",
    "features = train[[ 'Temperature', 'Humidity','Measure1',\n",
    "       'Measure2', 'Measure3', 'Measure4', 'Measure5', 'Measure6', 'Measure7',\n",
    "       'Measure8', 'Measure9', 'Measure10', 'Measure11', 'Measure12',\n",
    "       'Measure13', 'Measure14', 'Measure15']]\n",
    "failure = train[['failure']]\n",
    "\n",
    "features.shape, failure.shape"
   ]
  },
  {
   "cell_type": "code",
   "execution_count": 150,
   "metadata": {},
   "outputs": [
    {
     "data": {
      "image/png": "[encoded data removed]",
      "text/plain": [
       "<Figure size 2160x2160 with 20 Axes>"
      ]
     },
     "metadata": {
      "needs_background": "light"
     },
     "output_type": "display_data"
    }
   ],
   "source": [
    "features.hist(bins=13, figsize=(30,30));"
   ]
  },
  {
   "cell_type": "code",
   "execution_count": 151,
   "metadata": {},
   "outputs": [],
   "source": [
    "from sklearn.model_selection import train_test_split\n",
    "\n",
    "X_train, X_test, y_train, y_test = train_test_split(features, failure, test_size=0.2, random_state=13, stratify=failure)"
   ]
  },
  {
   "cell_type": "code",
   "execution_count": 152,
   "metadata": {},
   "outputs": [
    {
     "data": {
      "text/plain": [
       "(array([0, 1]), array([6264,   60]))"
      ]
     },
     "execution_count": 152,
     "metadata": {},
     "output_type": "execute_result"
    }
   ],
   "source": [
    "# 트레인 데이터 불균형도 확인\n",
    "import numpy as np\n",
    "\n",
    "np.unique(y_train, return_counts=True)"
   ]
  },
  {
   "cell_type": "code",
   "execution_count": 153,
   "metadata": {},
   "outputs": [
    {
     "name": "stdout",
     "output_type": "stream",
     "text": [
      "0.95 %\n"
     ]
    }
   ],
   "source": [
    "tmp = np.unique(y_train, return_counts=True)[1]\n",
    "print(round(tmp[1]/len(y_train) *100,2) ,'%')"
   ]
  },
  {
   "cell_type": "code",
   "execution_count": 154,
   "metadata": {},
   "outputs": [
    {
     "data": {
      "text/plain": [
       "(array([0, 1]), array([1566,   15]))"
      ]
     },
     "execution_count": 154,
     "metadata": {},
     "output_type": "execute_result"
    }
   ],
   "source": [
    "# 테스트 데이터 불균형 확인\n",
    "\n",
    "np.unique(y_test, return_counts=True)"
   ]
  },
  {
   "cell_type": "code",
   "execution_count": 155,
   "metadata": {},
   "outputs": [
    {
     "name": "stdout",
     "output_type": "stream",
     "text": [
      "0.95 %\n"
     ]
    }
   ],
   "source": [
    "tmp = np.unique(y_test, return_counts=True)[1]\n",
    "print(round(tmp[1]/len(y_test) *100,2) ,'%')"
   ]
  },
  {
   "cell_type": "markdown",
   "metadata": {},
   "source": [
    "예측"
   ]
  },
  {
   "cell_type": "code",
   "execution_count": 156,
   "metadata": {},
   "outputs": [],
   "source": [
    "from sklearn.metrics import (accuracy_score, precision_score, recall_score, f1_score, roc_auc_score)\n",
    "\n",
    "def get_clf_eval(y_test, pred):\n",
    "    acc = accuracy_score(y_test, pred)\n",
    "    pre = precision_score(y_test, pred)\n",
    "    re = recall_score(y_test, pred)\n",
    "    f1 = f1_score(y_test, pred)\n",
    "    acu = roc_auc_score(y_test, pred)\n",
    "    \n",
    "    return acc, pre, re, f1, acu"
   ]
  },
  {
   "cell_type": "code",
   "execution_count": 157,
   "metadata": {},
   "outputs": [],
   "source": [
    "from sklearn.metrics import confusion_matrix\n",
    "\n",
    "def print_clf_eval(y_test, pred):\n",
    "    confusion = confusion_matrix(y_test, pred)\n",
    "    acc, pre, re, f1, auc = get_clf_eval(y_test, pred)\n",
    "    \n",
    "    print('confusion matrix')\n",
    "    print(confusion)\n",
    "    \n",
    "    print('Accuracy: {0:.4f}, precision: {1:.4f}'.format(acc, pre))\n",
    "    print('Recall: {0:.4f}, F1: {1:.4f}, AUC: {2:.4f}'.format(re, f1, auc))"
   ]
  },
  {
   "cell_type": "markdown",
   "metadata": {},
   "source": [
    "Logistic"
   ]
  },
  {
   "cell_type": "code",
   "execution_count": 158,
   "metadata": {},
   "outputs": [
    {
     "name": "stdout",
     "output_type": "stream",
     "text": [
      "confusion matrix\n",
      "[[1565    1]\n",
      " [   5   10]]\n",
      "Accuracy: 0.9962, precision: 0.9091\n",
      "Recall: 0.6667, F1: 0.7692, AUC: 0.8330\n"
     ]
    }
   ],
   "source": [
    "from sklearn.linear_model import LogisticRegression\n",
    "\n",
    "lr_clf = LogisticRegression(random_state=34, solver='liblinear')\n",
    "lr_clf.fit(X_train, y_train)\n",
    "lr_pred = lr_clf.predict(X_test)\n",
    "\n",
    "print_clf_eval(y_test, lr_pred)"
   ]
  },
  {
   "cell_type": "markdown",
   "metadata": {},
   "source": [
    "DecisionTree"
   ]
  },
  {
   "cell_type": "code",
   "execution_count": 159,
   "metadata": {},
   "outputs": [
    {
     "name": "stdout",
     "output_type": "stream",
     "text": [
      "confusion matrix\n",
      "[[1560    6]\n",
      " [   1   14]]\n",
      "Accuracy: 0.9956, precision: 0.7000\n",
      "Recall: 0.9333, F1: 0.8000, AUC: 0.9648\n"
     ]
    }
   ],
   "source": [
    "from sklearn.tree import DecisionTreeClassifier\n",
    "\n",
    "dt_clf = DecisionTreeClassifier(random_state=34, max_depth=4)\n",
    "dt_clf.fit(X_train, y_train)\n",
    "dt_pred = dt_clf. predict(X_test)\n",
    "\n",
    "print_clf_eval(y_test, dt_pred)"
   ]
  },
  {
   "cell_type": "markdown",
   "metadata": {},
   "source": [
    "RandomForestClassifier"
   ]
  },
  {
   "cell_type": "code",
   "execution_count": 160,
   "metadata": {},
   "outputs": [
    {
     "name": "stdout",
     "output_type": "stream",
     "text": [
      "confusion matrix\n",
      "[[1562    4]\n",
      " [   2   13]]\n",
      "Accuracy: 0.9962, precision: 0.7647\n",
      "Recall: 0.8667, F1: 0.8125, AUC: 0.9321\n"
     ]
    }
   ],
   "source": [
    "from sklearn.ensemble import RandomForestClassifier\n",
    "\n",
    "rf_clf = RandomForestClassifier(random_state=13, n_jobs=-1, n_estimators=100)\n",
    "rf_clf.fit(X_train, y_train)\n",
    "rf_pred = rf_clf.predict(X_test)\n",
    "\n",
    "print_clf_eval(y_test, rf_pred)"
   ]
  },
  {
   "cell_type": "markdown",
   "metadata": {},
   "source": [
    "GBM"
   ]
  },
  {
   "cell_type": "code",
   "execution_count": 161,
   "metadata": {},
   "outputs": [
    {
     "name": "stdout",
     "output_type": "stream",
     "text": [
      "confusion matrix\n",
      "[[1557    9]\n",
      " [   1   14]]\n",
      "Accuracy: 0.9937, precision: 0.6087\n",
      "Recall: 0.9333, F1: 0.7368, AUC: 0.9638\n",
      "fit_time :  1.6318702697753906\n"
     ]
    }
   ],
   "source": [
    "from sklearn.ensemble import GradientBoostingClassifier\n",
    "\n",
    "start_time = time.time()\n",
    "\n",
    "gb_clf = GradientBoostingClassifier(random_state=34)\n",
    "gb_clf.fit(X_train, y_train)\n",
    "gb_pred = gb_clf.predict(X_test)\n",
    "\n",
    "print_clf_eval(y_test, gb_pred)\n",
    "print('fit_time : ', time.time() - start_time)"
   ]
  },
  {
   "cell_type": "code",
   "execution_count": 162,
   "metadata": {},
   "outputs": [
    {
     "data": {
      "text/plain": [
       "100"
      ]
     },
     "execution_count": 162,
     "metadata": {},
     "output_type": "execute_result"
    }
   ],
   "source": [
    "gb_clf.n_estimators_"
   ]
  },
  {
   "cell_type": "markdown",
   "metadata": {},
   "source": [
    "GBM Grid Search"
   ]
  },
  {
   "cell_type": "code",
   "execution_count": 163,
   "metadata": {},
   "outputs": [
    {
     "name": "stdout",
     "output_type": "stream",
     "text": [
      "Fitting 5 folds for each of 18 candidates, totalling 90 fits\n"
     ]
    },
    {
     "name": "stderr",
     "output_type": "stream",
     "text": [
      "[Parallel(n_jobs=-1)]: Using backend LokyBackend with 12 concurrent workers.\n",
      "[Parallel(n_jobs=-1)]: Done  26 tasks      | elapsed:   19.5s\n",
      "[Parallel(n_jobs=-1)]: Done  90 out of  90 | elapsed:  1.1min finished\n"
     ]
    },
    {
     "name": "stdout",
     "output_type": "stream",
     "text": [
      "Fit time:  67.59196615219116\n"
     ]
    }
   ],
   "source": [
    "## 그리드 서치\n",
    "\n",
    "from sklearn.model_selection import GridSearchCV\n",
    "\n",
    "params = {\n",
    "    'n_estimators' : [100, 200, 300, 400, 500, 1000],\n",
    "    'learning_rate' : [0.01, 0.05, 0.1]\n",
    "}\n",
    "\n",
    "start_time = time.time()\n",
    "grid = GridSearchCV(gb_clf, param_grid=params, cv=5, verbose=1, n_jobs=-1)\n",
    "grid.fit(X_train, y_train)\n",
    "print('Fit time: ', time.time() - start_time)"
   ]
  },
  {
   "cell_type": "code",
   "execution_count": 164,
   "metadata": {},
   "outputs": [
    {
     "data": {
      "text/plain": [
       "0.9960465552609197"
      ]
     },
     "execution_count": 164,
     "metadata": {},
     "output_type": "execute_result"
    }
   ],
   "source": [
    "grid.best_score_"
   ]
  },
  {
   "cell_type": "code",
   "execution_count": 165,
   "metadata": {},
   "outputs": [
    {
     "name": "stdout",
     "output_type": "stream",
     "text": [
      "confusion matrix\n",
      "[[1562    4]\n",
      " [   2   13]]\n",
      "Accuracy: 0.9962, precision: 0.7647\n",
      "Recall: 0.8667, F1: 0.8125, AUC: 0.9321\n"
     ]
    }
   ],
   "source": [
    "print_clf_eval(y_test, grid.best_estimator_.predict(X_test))"
   ]
  },
  {
   "cell_type": "markdown",
   "metadata": {},
   "source": [
    "XGBoost"
   ]
  },
  {
   "cell_type": "code",
   "execution_count": 166,
   "metadata": {},
   "outputs": [
    {
     "name": "stdout",
     "output_type": "stream",
     "text": [
      "Fit time:  0.4610896110534668\n"
     ]
    }
   ],
   "source": [
    "from xgboost import XGBClassifier\n",
    "\n",
    "start_time = time.time()\n",
    "xgb = XGBClassifier(n_estimators=400, learning_rate=0.1, max_depth=3)\n",
    "xgb.fit(X_train, y_train)\n",
    "print('Fit time: ', time.time() - start_time)"
   ]
  },
  {
   "cell_type": "code",
   "execution_count": 167,
   "metadata": {},
   "outputs": [
    {
     "name": "stdout",
     "output_type": "stream",
     "text": [
      "confusion matrix\n",
      "[[1564    2]\n",
      " [   1   14]]\n",
      "Accuracy: 0.9981, precision: 0.8750\n",
      "Recall: 0.9333, F1: 0.9032, AUC: 0.9660\n"
     ]
    }
   ],
   "source": [
    "print_clf_eval(y_test, xgb.predict(X_test))"
   ]
  },
  {
   "cell_type": "markdown",
   "metadata": {},
   "source": [
    "LGBMClassifier"
   ]
  },
  {
   "cell_type": "code",
   "execution_count": 168,
   "metadata": {},
   "outputs": [
    {
     "name": "stdout",
     "output_type": "stream",
     "text": [
      "confusion matrix\n",
      "[[1565    1]\n",
      " [   4   11]]\n",
      "Accuracy: 0.9968, precision: 0.9167\n",
      "Recall: 0.7333, F1: 0.8148, AUC: 0.8663\n"
     ]
    }
   ],
   "source": [
    "from lightgbm import LGBMClassifier\n",
    "\n",
    "lgbm_clf = LGBMClassifier(n_estimators=1000, num_leaves=128, n_jobs=-1, boost_from_average=False)\n",
    "lgbm_clf.fit(X_train, y_train)\n",
    "lgbm_pred = lgbm_clf.predict(X_test)\n",
    "\n",
    "print_clf_eval(y_test, lgbm_pred)\n"
   ]
  },
  {
   "cell_type": "code",
   "execution_count": null,
   "metadata": {},
   "outputs": [],
   "source": []
  },
  {
   "cell_type": "markdown",
   "metadata": {},
   "source": [
    "모델, 데이터 정리. 모델 성능 정리 df로 만들기\n"
   ]
  },
  {
   "cell_type": "code",
   "execution_count": 169,
   "metadata": {},
   "outputs": [],
   "source": [
    "def get_result(model, X_train, y_train, X_test, y_test):\n",
    "    model.fit(X_train, y_train)\n",
    "    pred = model.predict(X_test)\n",
    "    \n",
    "    return get_clf_eval(y_test, pred)"
   ]
  },
  {
   "cell_type": "code",
   "execution_count": 170,
   "metadata": {},
   "outputs": [],
   "source": [
    "def get_result_pd(models, model_names, X_train, y_train, X_test, y_test):\n",
    "    col_names = ['accuracy', 'precision', 'recall', 'f1', 'roc_auc']\n",
    "    tmp = []\n",
    "    \n",
    "    for model in models:\n",
    "        tmp.append(get_result(model, X_train, y_train, X_test, y_test))\n",
    "        \n",
    "    return pd.DataFrame(tmp, columns=col_names, index=model_names)"
   ]
  },
  {
   "cell_type": "code",
   "execution_count": 171,
   "metadata": {},
   "outputs": [
    {
     "name": "stdout",
     "output_type": "stream",
     "text": [
      "Fit time:  3.6878957748413086\n"
     ]
    },
    {
     "data": {
      "text/html": [
       "<div>\n",
       "<style scoped>\n",
       "    .dataframe tbody tr th:only-of-type {\n",
       "        vertical-align: middle;\n",
       "    }\n",
       "\n",
       "    .dataframe tbody tr th {\n",
       "        vertical-align: top;\n",
       "    }\n",
       "\n",
       "    .dataframe thead th {\n",
       "        text-align: right;\n",
       "    }\n",
       "</style>\n",
       "<table border=\"1\" class=\"dataframe\">\n",
       "  <thead>\n",
       "    <tr style=\"text-align: right;\">\n",
       "      <th></th>\n",
       "      <th>accuracy</th>\n",
       "      <th>precision</th>\n",
       "      <th>recall</th>\n",
       "      <th>f1</th>\n",
       "      <th>roc_auc</th>\n",
       "    </tr>\n",
       "  </thead>\n",
       "  <tbody>\n",
       "    <tr>\n",
       "      <th>XGBoost</th>\n",
       "      <td>0.998102</td>\n",
       "      <td>0.875000</td>\n",
       "      <td>0.933333</td>\n",
       "      <td>0.903226</td>\n",
       "      <td>0.966028</td>\n",
       "    </tr>\n",
       "    <tr>\n",
       "      <th>LightGBM</th>\n",
       "      <td>0.996837</td>\n",
       "      <td>0.916667</td>\n",
       "      <td>0.733333</td>\n",
       "      <td>0.814815</td>\n",
       "      <td>0.866347</td>\n",
       "    </tr>\n",
       "    <tr>\n",
       "      <th>LogisticReg</th>\n",
       "      <td>0.996205</td>\n",
       "      <td>0.909091</td>\n",
       "      <td>0.666667</td>\n",
       "      <td>0.769231</td>\n",
       "      <td>0.833014</td>\n",
       "    </tr>\n",
       "    <tr>\n",
       "      <th>RandomForest</th>\n",
       "      <td>0.996205</td>\n",
       "      <td>0.764706</td>\n",
       "      <td>0.866667</td>\n",
       "      <td>0.812500</td>\n",
       "      <td>0.932056</td>\n",
       "    </tr>\n",
       "    <tr>\n",
       "      <th>DecisionTree</th>\n",
       "      <td>0.995572</td>\n",
       "      <td>0.700000</td>\n",
       "      <td>0.933333</td>\n",
       "      <td>0.800000</td>\n",
       "      <td>0.964751</td>\n",
       "    </tr>\n",
       "    <tr>\n",
       "      <th>GradientBoosting</th>\n",
       "      <td>0.993675</td>\n",
       "      <td>0.608696</td>\n",
       "      <td>0.933333</td>\n",
       "      <td>0.736842</td>\n",
       "      <td>0.963793</td>\n",
       "    </tr>\n",
       "  </tbody>\n",
       "</table>\n",
       "</div>"
      ],
      "text/plain": [
       "                  accuracy  precision    recall        f1   roc_auc\n",
       "XGBoost           0.998102   0.875000  0.933333  0.903226  0.966028\n",
       "LightGBM          0.996837   0.916667  0.733333  0.814815  0.866347\n",
       "LogisticReg       0.996205   0.909091  0.666667  0.769231  0.833014\n",
       "RandomForest      0.996205   0.764706  0.866667  0.812500  0.932056\n",
       "DecisionTree      0.995572   0.700000  0.933333  0.800000  0.964751\n",
       "GradientBoosting  0.993675   0.608696  0.933333  0.736842  0.963793"
      ]
     },
     "execution_count": 171,
     "metadata": {},
     "output_type": "execute_result"
    }
   ],
   "source": [
    "import time\n",
    "\n",
    "models = [lr_clf, dt_clf, rf_clf, lgbm_clf, xgb, gb_clf]\n",
    "model_names = ['LogisticReg', 'DecisionTree', 'RandomForest', 'LightGBM', 'XGBoost', 'GradientBoosting']\n",
    "\n",
    "start_time = time.time()\n",
    "results = get_result_pd(models, model_names, X_train, y_train, X_test, y_test)\n",
    "\n",
    "print('Fit time: ', time.time() - start_time)\n",
    "results.sort_values('accuracy', ascending=False)"
   ]
  },
  {
   "cell_type": "code",
   "execution_count": 172,
   "metadata": {},
   "outputs": [
    {
     "data": {
      "text/html": [
       "<div>\n",
       "<style scoped>\n",
       "    .dataframe tbody tr th:only-of-type {\n",
       "        vertical-align: middle;\n",
       "    }\n",
       "\n",
       "    .dataframe tbody tr th {\n",
       "        vertical-align: top;\n",
       "    }\n",
       "\n",
       "    .dataframe thead th {\n",
       "        text-align: right;\n",
       "    }\n",
       "</style>\n",
       "<table border=\"1\" class=\"dataframe\">\n",
       "  <thead>\n",
       "    <tr style=\"text-align: right;\">\n",
       "      <th></th>\n",
       "      <th>accuracy</th>\n",
       "      <th>precision</th>\n",
       "      <th>recall</th>\n",
       "      <th>f1</th>\n",
       "      <th>roc_auc</th>\n",
       "    </tr>\n",
       "  </thead>\n",
       "  <tbody>\n",
       "    <tr>\n",
       "      <th>LightGBM</th>\n",
       "      <td>0.996837</td>\n",
       "      <td>0.916667</td>\n",
       "      <td>0.733333</td>\n",
       "      <td>0.814815</td>\n",
       "      <td>0.866347</td>\n",
       "    </tr>\n",
       "    <tr>\n",
       "      <th>LogisticReg</th>\n",
       "      <td>0.996205</td>\n",
       "      <td>0.909091</td>\n",
       "      <td>0.666667</td>\n",
       "      <td>0.769231</td>\n",
       "      <td>0.833014</td>\n",
       "    </tr>\n",
       "    <tr>\n",
       "      <th>XGBoost</th>\n",
       "      <td>0.998102</td>\n",
       "      <td>0.875000</td>\n",
       "      <td>0.933333</td>\n",
       "      <td>0.903226</td>\n",
       "      <td>0.966028</td>\n",
       "    </tr>\n",
       "    <tr>\n",
       "      <th>RandomForest</th>\n",
       "      <td>0.996205</td>\n",
       "      <td>0.764706</td>\n",
       "      <td>0.866667</td>\n",
       "      <td>0.812500</td>\n",
       "      <td>0.932056</td>\n",
       "    </tr>\n",
       "    <tr>\n",
       "      <th>DecisionTree</th>\n",
       "      <td>0.995572</td>\n",
       "      <td>0.700000</td>\n",
       "      <td>0.933333</td>\n",
       "      <td>0.800000</td>\n",
       "      <td>0.964751</td>\n",
       "    </tr>\n",
       "    <tr>\n",
       "      <th>GradientBoosting</th>\n",
       "      <td>0.993675</td>\n",
       "      <td>0.608696</td>\n",
       "      <td>0.933333</td>\n",
       "      <td>0.736842</td>\n",
       "      <td>0.963793</td>\n",
       "    </tr>\n",
       "  </tbody>\n",
       "</table>\n",
       "</div>"
      ],
      "text/plain": [
       "                  accuracy  precision    recall        f1   roc_auc\n",
       "LightGBM          0.996837   0.916667  0.733333  0.814815  0.866347\n",
       "LogisticReg       0.996205   0.909091  0.666667  0.769231  0.833014\n",
       "XGBoost           0.998102   0.875000  0.933333  0.903226  0.966028\n",
       "RandomForest      0.996205   0.764706  0.866667  0.812500  0.932056\n",
       "DecisionTree      0.995572   0.700000  0.933333  0.800000  0.964751\n",
       "GradientBoosting  0.993675   0.608696  0.933333  0.736842  0.963793"
      ]
     },
     "execution_count": 172,
     "metadata": {},
     "output_type": "execute_result"
    }
   ],
   "source": [
    "results.sort_values('precision', ascending=False)"
   ]
  },
  {
   "cell_type": "code",
   "execution_count": 173,
   "metadata": {},
   "outputs": [
    {
     "data": {
      "text/html": [
       "<div>\n",
       "<style scoped>\n",
       "    .dataframe tbody tr th:only-of-type {\n",
       "        vertical-align: middle;\n",
       "    }\n",
       "\n",
       "    .dataframe tbody tr th {\n",
       "        vertical-align: top;\n",
       "    }\n",
       "\n",
       "    .dataframe thead th {\n",
       "        text-align: right;\n",
       "    }\n",
       "</style>\n",
       "<table border=\"1\" class=\"dataframe\">\n",
       "  <thead>\n",
       "    <tr style=\"text-align: right;\">\n",
       "      <th></th>\n",
       "      <th>accuracy</th>\n",
       "      <th>precision</th>\n",
       "      <th>recall</th>\n",
       "      <th>f1</th>\n",
       "      <th>roc_auc</th>\n",
       "    </tr>\n",
       "  </thead>\n",
       "  <tbody>\n",
       "    <tr>\n",
       "      <th>DecisionTree</th>\n",
       "      <td>0.995572</td>\n",
       "      <td>0.700000</td>\n",
       "      <td>0.933333</td>\n",
       "      <td>0.800000</td>\n",
       "      <td>0.964751</td>\n",
       "    </tr>\n",
       "    <tr>\n",
       "      <th>XGBoost</th>\n",
       "      <td>0.998102</td>\n",
       "      <td>0.875000</td>\n",
       "      <td>0.933333</td>\n",
       "      <td>0.903226</td>\n",
       "      <td>0.966028</td>\n",
       "    </tr>\n",
       "    <tr>\n",
       "      <th>GradientBoosting</th>\n",
       "      <td>0.993675</td>\n",
       "      <td>0.608696</td>\n",
       "      <td>0.933333</td>\n",
       "      <td>0.736842</td>\n",
       "      <td>0.963793</td>\n",
       "    </tr>\n",
       "    <tr>\n",
       "      <th>RandomForest</th>\n",
       "      <td>0.996205</td>\n",
       "      <td>0.764706</td>\n",
       "      <td>0.866667</td>\n",
       "      <td>0.812500</td>\n",
       "      <td>0.932056</td>\n",
       "    </tr>\n",
       "    <tr>\n",
       "      <th>LightGBM</th>\n",
       "      <td>0.996837</td>\n",
       "      <td>0.916667</td>\n",
       "      <td>0.733333</td>\n",
       "      <td>0.814815</td>\n",
       "      <td>0.866347</td>\n",
       "    </tr>\n",
       "    <tr>\n",
       "      <th>LogisticReg</th>\n",
       "      <td>0.996205</td>\n",
       "      <td>0.909091</td>\n",
       "      <td>0.666667</td>\n",
       "      <td>0.769231</td>\n",
       "      <td>0.833014</td>\n",
       "    </tr>\n",
       "  </tbody>\n",
       "</table>\n",
       "</div>"
      ],
      "text/plain": [
       "                  accuracy  precision    recall        f1   roc_auc\n",
       "DecisionTree      0.995572   0.700000  0.933333  0.800000  0.964751\n",
       "XGBoost           0.998102   0.875000  0.933333  0.903226  0.966028\n",
       "GradientBoosting  0.993675   0.608696  0.933333  0.736842  0.963793\n",
       "RandomForest      0.996205   0.764706  0.866667  0.812500  0.932056\n",
       "LightGBM          0.996837   0.916667  0.733333  0.814815  0.866347\n",
       "LogisticReg       0.996205   0.909091  0.666667  0.769231  0.833014"
      ]
     },
     "execution_count": 173,
     "metadata": {},
     "output_type": "execute_result"
    }
   ],
   "source": [
    "results.sort_values('recall', ascending=False)"
   ]
  },
  {
   "cell_type": "markdown",
   "metadata": {},
   "source": [
    "ROC 커브"
   ]
  },
  {
   "cell_type": "code",
   "execution_count": 174,
   "metadata": {},
   "outputs": [
    {
     "data": {
      "image/png": "[encoded data removed]",
      "text/plain": [
       "<Figure size 720x720 with 1 Axes>"
      ]
     },
     "metadata": {
      "needs_background": "light"
     },
     "output_type": "display_data"
    }
   ],
   "source": [
    "from sklearn.metrics import roc_curve\n",
    "\n",
    "def draw_roc_curve(models, model_names, X_test, y_test):\n",
    "    plt.figure(figsize = (10,10))\n",
    "    \n",
    "    for model in range(len(models)):\n",
    "        pred = models[model].predict_proba(X_test)[:, 1]\n",
    "        fpr, tpr, thresholds = roc_curve(y_test, pred)\n",
    "        plt.plot(fpr, tpr, label=model_names[model])\n",
    "        \n",
    "    plt.plot([0,1], [0,1], 'k--', label = 'random quess')\n",
    "    plt.title('ROC')\n",
    "    plt.legend()\n",
    "    plt.grid()\n",
    "    plt.show()\n",
    "    \n",
    "    \n",
    "draw_roc_curve(models,model_names, X_test, y_test)\n",
    "        \n",
    "        \n",
    "        "
   ]
  },
  {
   "cell_type": "markdown",
   "metadata": {},
   "source": [
    "Five-cross Validation"
   ]
  },
  {
   "cell_type": "code",
   "execution_count": 175,
   "metadata": {},
   "outputs": [],
   "source": [
    "from sklearn.model_selection import KFold, cross_val_score, KFold\n",
    "\n",
    "results = []\n",
    "cv_result = []\n",
    "\n",
    "def cross_model(models):\n",
    "    for model in models:\n",
    "        kfold = KFold(n_splits=5, random_state=34, shuffle=True)\n",
    "        cv_results = cross_val_score(model, X_train, y_train, cv=kfold, scoring='accuracy')\n",
    "        results.append(cv_results)\n",
    "\n",
    "    return results"
   ]
  },
  {
   "cell_type": "code",
   "execution_count": 176,
   "metadata": {},
   "outputs": [],
   "source": [
    "cross_result = cross_model(models)"
   ]
  },
  {
   "cell_type": "code",
   "execution_count": 177,
   "metadata": {},
   "outputs": [
    {
     "data": {
      "text/html": [
       "<div>\n",
       "<style scoped>\n",
       "    .dataframe tbody tr th:only-of-type {\n",
       "        vertical-align: middle;\n",
       "    }\n",
       "\n",
       "    .dataframe tbody tr th {\n",
       "        vertical-align: top;\n",
       "    }\n",
       "\n",
       "    .dataframe thead th {\n",
       "        text-align: right;\n",
       "    }\n",
       "</style>\n",
       "<table border=\"1\" class=\"dataframe\">\n",
       "  <thead>\n",
       "    <tr style=\"text-align: right;\">\n",
       "      <th></th>\n",
       "      <th>0</th>\n",
       "      <th>1</th>\n",
       "      <th>2</th>\n",
       "      <th>3</th>\n",
       "      <th>4</th>\n",
       "      <th>mean</th>\n",
       "    </tr>\n",
       "  </thead>\n",
       "  <tbody>\n",
       "    <tr>\n",
       "      <th>RandomForest</th>\n",
       "      <td>0.995257</td>\n",
       "      <td>0.994466</td>\n",
       "      <td>0.996838</td>\n",
       "      <td>0.996047</td>\n",
       "      <td>0.998418</td>\n",
       "      <td>0.996205</td>\n",
       "    </tr>\n",
       "    <tr>\n",
       "      <th>DecisionTree</th>\n",
       "      <td>0.995257</td>\n",
       "      <td>0.992885</td>\n",
       "      <td>0.997628</td>\n",
       "      <td>0.996047</td>\n",
       "      <td>0.998418</td>\n",
       "      <td>0.996047</td>\n",
       "    </tr>\n",
       "    <tr>\n",
       "      <th>XGBoost</th>\n",
       "      <td>0.995257</td>\n",
       "      <td>0.992885</td>\n",
       "      <td>0.997628</td>\n",
       "      <td>0.995257</td>\n",
       "      <td>0.998418</td>\n",
       "      <td>0.995889</td>\n",
       "    </tr>\n",
       "    <tr>\n",
       "      <th>LogisticReg</th>\n",
       "      <td>0.995257</td>\n",
       "      <td>0.992095</td>\n",
       "      <td>0.997628</td>\n",
       "      <td>0.996838</td>\n",
       "      <td>0.996835</td>\n",
       "      <td>0.995731</td>\n",
       "    </tr>\n",
       "    <tr>\n",
       "      <th>GradientBoosting</th>\n",
       "      <td>0.996838</td>\n",
       "      <td>0.992095</td>\n",
       "      <td>0.996047</td>\n",
       "      <td>0.995257</td>\n",
       "      <td>0.996835</td>\n",
       "      <td>0.995415</td>\n",
       "    </tr>\n",
       "    <tr>\n",
       "      <th>LightGBM</th>\n",
       "      <td>0.993676</td>\n",
       "      <td>0.992095</td>\n",
       "      <td>0.997628</td>\n",
       "      <td>0.995257</td>\n",
       "      <td>0.997627</td>\n",
       "      <td>0.995257</td>\n",
       "    </tr>\n",
       "  </tbody>\n",
       "</table>\n",
       "</div>"
      ],
      "text/plain": [
       "                         0         1         2         3         4      mean\n",
       "RandomForest      0.995257  0.994466  0.996838  0.996047  0.998418  0.996205\n",
       "DecisionTree      0.995257  0.992885  0.997628  0.996047  0.998418  0.996047\n",
       "XGBoost           0.995257  0.992885  0.997628  0.995257  0.998418  0.995889\n",
       "LogisticReg       0.995257  0.992095  0.997628  0.996838  0.996835  0.995731\n",
       "GradientBoosting  0.996838  0.992095  0.996047  0.995257  0.996835  0.995415\n",
       "LightGBM          0.993676  0.992095  0.997628  0.995257  0.997627  0.995257"
      ]
     },
     "execution_count": 177,
     "metadata": {},
     "output_type": "execute_result"
    }
   ],
   "source": [
    "cross_total_result = pd.DataFrame(cross_result, index=model_names)\n",
    "cross_total_result['mean'] = cross_total_result.mean(axis=1)\n",
    "cross_total_result.sort_values('mean', ascending=False)"
   ]
  },
  {
   "cell_type": "markdown",
   "metadata": {},
   "source": [
    "이상치 확인"
   ]
  },
  {
   "cell_type": "code",
   "execution_count": 178,
   "metadata": {},
   "outputs": [
    {
     "data": {
      "text/plain": [
       "<matplotlib.axes._subplots.AxesSubplot at 0x7f770cfb2d50>"
      ]
     },
     "execution_count": 178,
     "metadata": {},
     "output_type": "execute_result"
    },
    {
     "data": {
      "image/png": "[encoded data removed]",
      "text/plain": [
       "<Figure size 2160x2160 with 1 Axes>"
      ]
     },
     "metadata": {
      "needs_background": "light"
     },
     "output_type": "display_data"
    }
   ],
   "source": [
    "import seaborn as sns\n",
    "\n",
    "plt.figure(figsize=(30,30))\n",
    "sns.boxplot(data = features)"
   ]
  },
  {
   "cell_type": "markdown",
   "metadata": {},
   "source": [
    "이상치보다 스케일링"
   ]
  },
  {
   "cell_type": "code",
   "execution_count": 179,
   "metadata": {},
   "outputs": [],
   "source": [
    "from sklearn.preprocessing import MinMaxScaler, StandardScaler\n",
    "\n",
    "MMS = MinMaxScaler()\n",
    "SS = StandardScaler()\n",
    "\n",
    "MMS.fit(features)\n",
    "SS.fit(features)\n",
    "\n",
    "features_MMS = MMS.transform(features)\n",
    "features_SS = SS.transform(features)"
   ]
  },
  {
   "cell_type": "code",
   "execution_count": 180,
   "metadata": {},
   "outputs": [],
   "source": [
    "features_MMS_pd = pd.DataFrame(features_MMS, columns=features.columns)\n",
    "features_SS_pd = pd.DataFrame(features_SS, columns=features.columns)"
   ]
  },
  {
   "cell_type": "code",
   "execution_count": 181,
   "metadata": {},
   "outputs": [
    {
     "data": {
      "image/png": "[encoded data removed]",
      "text/plain": [
       "<Figure size 2160x2160 with 1 Axes>"
      ]
     },
     "metadata": {
      "needs_background": "light"
     },
     "output_type": "display_data"
    }
   ],
   "source": [
    "# minmax scaler\n",
    "import seaborn as sns\n",
    "\n",
    "plt.figure(figsize=(30,30))\n",
    "sns.boxplot(data = features_MMS_pd);"
   ]
  },
  {
   "cell_type": "code",
   "execution_count": 182,
   "metadata": {},
   "outputs": [
    {
     "data": {
      "image/png": "[encoded data removed]",
      "text/plain": [
       "<Figure size 2160x720 with 1 Axes>"
      ]
     },
     "metadata": {
      "needs_background": "light"
     },
     "output_type": "display_data"
    }
   ],
   "source": [
    "# standard scaler\n",
    "import seaborn as sns\n",
    "\n",
    "plt.figure(figsize=(30,10))\n",
    "sns.boxplot(data = features_SS_pd);"
   ]
  },
  {
   "cell_type": "code",
   "execution_count": 183,
   "metadata": {},
   "outputs": [
    {
     "name": "stdout",
     "output_type": "stream",
     "text": [
      "Fit time:  3.487234115600586\n"
     ]
    },
    {
     "data": {
      "text/html": [
       "<div>\n",
       "<style scoped>\n",
       "    .dataframe tbody tr th:only-of-type {\n",
       "        vertical-align: middle;\n",
       "    }\n",
       "\n",
       "    .dataframe tbody tr th {\n",
       "        vertical-align: top;\n",
       "    }\n",
       "\n",
       "    .dataframe thead th {\n",
       "        text-align: right;\n",
       "    }\n",
       "</style>\n",
       "<table border=\"1\" class=\"dataframe\">\n",
       "  <thead>\n",
       "    <tr style=\"text-align: right;\">\n",
       "      <th></th>\n",
       "      <th>accuracy</th>\n",
       "      <th>precision</th>\n",
       "      <th>recall</th>\n",
       "      <th>f1</th>\n",
       "      <th>roc_auc</th>\n",
       "    </tr>\n",
       "  </thead>\n",
       "  <tbody>\n",
       "    <tr>\n",
       "      <th>XGBoost</th>\n",
       "      <td>0.998102</td>\n",
       "      <td>0.875000</td>\n",
       "      <td>0.933333</td>\n",
       "      <td>0.903226</td>\n",
       "      <td>0.966028</td>\n",
       "    </tr>\n",
       "    <tr>\n",
       "      <th>LightGBM</th>\n",
       "      <td>0.997470</td>\n",
       "      <td>0.923077</td>\n",
       "      <td>0.800000</td>\n",
       "      <td>0.857143</td>\n",
       "      <td>0.899681</td>\n",
       "    </tr>\n",
       "    <tr>\n",
       "      <th>RandomForest</th>\n",
       "      <td>0.996205</td>\n",
       "      <td>0.764706</td>\n",
       "      <td>0.866667</td>\n",
       "      <td>0.812500</td>\n",
       "      <td>0.932056</td>\n",
       "    </tr>\n",
       "    <tr>\n",
       "      <th>DecisionTree</th>\n",
       "      <td>0.995572</td>\n",
       "      <td>0.700000</td>\n",
       "      <td>0.933333</td>\n",
       "      <td>0.800000</td>\n",
       "      <td>0.964751</td>\n",
       "    </tr>\n",
       "    <tr>\n",
       "      <th>GradientBoosting</th>\n",
       "      <td>0.993675</td>\n",
       "      <td>0.608696</td>\n",
       "      <td>0.933333</td>\n",
       "      <td>0.736842</td>\n",
       "      <td>0.963793</td>\n",
       "    </tr>\n",
       "    <tr>\n",
       "      <th>LogisticReg</th>\n",
       "      <td>0.990512</td>\n",
       "      <td>0.000000</td>\n",
       "      <td>0.000000</td>\n",
       "      <td>0.000000</td>\n",
       "      <td>0.500000</td>\n",
       "    </tr>\n",
       "  </tbody>\n",
       "</table>\n",
       "</div>"
      ],
      "text/plain": [
       "                  accuracy  precision    recall        f1   roc_auc\n",
       "XGBoost           0.998102   0.875000  0.933333  0.903226  0.966028\n",
       "LightGBM          0.997470   0.923077  0.800000  0.857143  0.899681\n",
       "RandomForest      0.996205   0.764706  0.866667  0.812500  0.932056\n",
       "DecisionTree      0.995572   0.700000  0.933333  0.800000  0.964751\n",
       "GradientBoosting  0.993675   0.608696  0.933333  0.736842  0.963793\n",
       "LogisticReg       0.990512   0.000000  0.000000  0.000000  0.500000"
      ]
     },
     "execution_count": 183,
     "metadata": {},
     "output_type": "execute_result"
    }
   ],
   "source": [
    "# MMS 데이터 나누고 결과 확인\n",
    "from sklearn.model_selection import train_test_split\n",
    "\n",
    "X_train, X_test, y_train, y_test = train_test_split(features_MMS_pd, failure, test_size=0.2, random_state=13, stratify=failure)\n",
    "\n",
    "start_time = time.time()\n",
    "results = get_result_pd(models, model_names, X_train, y_train, X_test, y_test)\n",
    "\n",
    "print('Fit time: ', time.time() - start_time)\n",
    "results.sort_values('accuracy', ascending=False)"
   ]
  },
  {
   "cell_type": "code",
   "execution_count": 184,
   "metadata": {},
   "outputs": [
    {
     "name": "stdout",
     "output_type": "stream",
     "text": [
      "Fit time:  3.370455741882324\n"
     ]
    },
    {
     "data": {
      "text/html": [
       "<div>\n",
       "<style scoped>\n",
       "    .dataframe tbody tr th:only-of-type {\n",
       "        vertical-align: middle;\n",
       "    }\n",
       "\n",
       "    .dataframe tbody tr th {\n",
       "        vertical-align: top;\n",
       "    }\n",
       "\n",
       "    .dataframe thead th {\n",
       "        text-align: right;\n",
       "    }\n",
       "</style>\n",
       "<table border=\"1\" class=\"dataframe\">\n",
       "  <thead>\n",
       "    <tr style=\"text-align: right;\">\n",
       "      <th></th>\n",
       "      <th>accuracy</th>\n",
       "      <th>precision</th>\n",
       "      <th>recall</th>\n",
       "      <th>f1</th>\n",
       "      <th>roc_auc</th>\n",
       "    </tr>\n",
       "  </thead>\n",
       "  <tbody>\n",
       "    <tr>\n",
       "      <th>XGBoost</th>\n",
       "      <td>0.998102</td>\n",
       "      <td>0.875000</td>\n",
       "      <td>0.933333</td>\n",
       "      <td>0.903226</td>\n",
       "      <td>0.966028</td>\n",
       "    </tr>\n",
       "    <tr>\n",
       "      <th>LightGBM</th>\n",
       "      <td>0.996837</td>\n",
       "      <td>0.916667</td>\n",
       "      <td>0.733333</td>\n",
       "      <td>0.814815</td>\n",
       "      <td>0.866347</td>\n",
       "    </tr>\n",
       "    <tr>\n",
       "      <th>RandomForest</th>\n",
       "      <td>0.996205</td>\n",
       "      <td>0.764706</td>\n",
       "      <td>0.866667</td>\n",
       "      <td>0.812500</td>\n",
       "      <td>0.932056</td>\n",
       "    </tr>\n",
       "    <tr>\n",
       "      <th>LogisticReg</th>\n",
       "      <td>0.995572</td>\n",
       "      <td>0.900000</td>\n",
       "      <td>0.600000</td>\n",
       "      <td>0.720000</td>\n",
       "      <td>0.799681</td>\n",
       "    </tr>\n",
       "    <tr>\n",
       "      <th>DecisionTree</th>\n",
       "      <td>0.995572</td>\n",
       "      <td>0.700000</td>\n",
       "      <td>0.933333</td>\n",
       "      <td>0.800000</td>\n",
       "      <td>0.964751</td>\n",
       "    </tr>\n",
       "    <tr>\n",
       "      <th>GradientBoosting</th>\n",
       "      <td>0.993675</td>\n",
       "      <td>0.608696</td>\n",
       "      <td>0.933333</td>\n",
       "      <td>0.736842</td>\n",
       "      <td>0.963793</td>\n",
       "    </tr>\n",
       "  </tbody>\n",
       "</table>\n",
       "</div>"
      ],
      "text/plain": [
       "                  accuracy  precision    recall        f1   roc_auc\n",
       "XGBoost           0.998102   0.875000  0.933333  0.903226  0.966028\n",
       "LightGBM          0.996837   0.916667  0.733333  0.814815  0.866347\n",
       "RandomForest      0.996205   0.764706  0.866667  0.812500  0.932056\n",
       "LogisticReg       0.995572   0.900000  0.600000  0.720000  0.799681\n",
       "DecisionTree      0.995572   0.700000  0.933333  0.800000  0.964751\n",
       "GradientBoosting  0.993675   0.608696  0.933333  0.736842  0.963793"
      ]
     },
     "execution_count": 184,
     "metadata": {},
     "output_type": "execute_result"
    }
   ],
   "source": [
    "# SS 데이터 나누고 결과 확인\n",
    "from sklearn.model_selection import train_test_split\n",
    "\n",
    "X_train, X_test, y_train, y_test = train_test_split(features_SS_pd, failure, test_size=0.2, random_state=13, stratify=failure)\n",
    "\n",
    "start_time = time.time()\n",
    "results = get_result_pd(models, model_names, X_train, y_train, X_test, y_test)\n",
    "\n",
    "print('Fit time: ', time.time() - start_time)\n",
    "results.sort_values('accuracy', ascending=False)"
   ]
  },
  {
   "cell_type": "code",
   "execution_count": 185,
   "metadata": {},
   "outputs": [
    {
     "data": {
      "image/png": "[encoded data removed]",
      "text/plain": [
       "<Figure size 720x720 with 1 Axes>"
      ]
     },
     "metadata": {
      "needs_background": "light"
     },
     "output_type": "display_data"
    }
   ],
   "source": [
    "draw_roc_curve(models , model_names, X_test, y_test)"
   ]
  },
  {
   "cell_type": "markdown",
   "metadata": {},
   "source": [
    "Over & Under Sampling\n",
    "\n",
    "Fail 데이터가 적음"
   ]
  },
  {
   "cell_type": "code",
   "execution_count": 186,
   "metadata": {},
   "outputs": [],
   "source": [
    "from imblearn.over_sampling import SMOTE\n",
    "\n",
    "smote = SMOTE(random_state=34)\n",
    "X_train_over, y_train_over = smote.fit_sample(X_train, y_train)"
   ]
  },
  {
   "cell_type": "code",
   "execution_count": 187,
   "metadata": {},
   "outputs": [
    {
     "data": {
      "text/plain": [
       "((6324, 17), (6324, 1))"
      ]
     },
     "execution_count": 187,
     "metadata": {},
     "output_type": "execute_result"
    }
   ],
   "source": [
    "X_train.shape, y_train.shape"
   ]
  },
  {
   "cell_type": "code",
   "execution_count": 188,
   "metadata": {},
   "outputs": [
    {
     "data": {
      "text/plain": [
       "((12528, 17), (12528, 1))"
      ]
     },
     "execution_count": 188,
     "metadata": {},
     "output_type": "execute_result"
    }
   ],
   "source": [
    "X_train_over.shape, y_train_over.shape"
   ]
  },
  {
   "cell_type": "code",
   "execution_count": 189,
   "metadata": {},
   "outputs": [
    {
     "name": "stdout",
     "output_type": "stream",
     "text": [
      "(array([0, 1]), array([6264,   60]))\n",
      "(array([0, 1]), array([6264, 6264]))\n"
     ]
    }
   ],
   "source": [
    "# fail 증폭\n",
    "print(np.unique(y_train, return_counts=True))\n",
    "print(np.unique(y_train_over, return_counts=True))"
   ]
  },
  {
   "cell_type": "code",
   "execution_count": 190,
   "metadata": {},
   "outputs": [
    {
     "name": "stdout",
     "output_type": "stream",
     "text": [
      "Fit time:  7.427216053009033\n"
     ]
    },
    {
     "data": {
      "text/html": [
       "<div>\n",
       "<style scoped>\n",
       "    .dataframe tbody tr th:only-of-type {\n",
       "        vertical-align: middle;\n",
       "    }\n",
       "\n",
       "    .dataframe tbody tr th {\n",
       "        vertical-align: top;\n",
       "    }\n",
       "\n",
       "    .dataframe thead th {\n",
       "        text-align: right;\n",
       "    }\n",
       "</style>\n",
       "<table border=\"1\" class=\"dataframe\">\n",
       "  <thead>\n",
       "    <tr style=\"text-align: right;\">\n",
       "      <th></th>\n",
       "      <th>accuracy</th>\n",
       "      <th>precision</th>\n",
       "      <th>recall</th>\n",
       "      <th>f1</th>\n",
       "      <th>roc_auc</th>\n",
       "    </tr>\n",
       "  </thead>\n",
       "  <tbody>\n",
       "    <tr>\n",
       "      <th>RandomForest</th>\n",
       "      <td>0.997470</td>\n",
       "      <td>0.823529</td>\n",
       "      <td>0.933333</td>\n",
       "      <td>0.875000</td>\n",
       "      <td>0.965709</td>\n",
       "    </tr>\n",
       "    <tr>\n",
       "      <th>LightGBM</th>\n",
       "      <td>0.996837</td>\n",
       "      <td>0.777778</td>\n",
       "      <td>0.933333</td>\n",
       "      <td>0.848485</td>\n",
       "      <td>0.965390</td>\n",
       "    </tr>\n",
       "    <tr>\n",
       "      <th>GradientBoosting</th>\n",
       "      <td>0.996837</td>\n",
       "      <td>0.777778</td>\n",
       "      <td>0.933333</td>\n",
       "      <td>0.848485</td>\n",
       "      <td>0.965390</td>\n",
       "    </tr>\n",
       "    <tr>\n",
       "      <th>DecisionTree</th>\n",
       "      <td>0.996205</td>\n",
       "      <td>0.736842</td>\n",
       "      <td>0.933333</td>\n",
       "      <td>0.823529</td>\n",
       "      <td>0.965070</td>\n",
       "    </tr>\n",
       "    <tr>\n",
       "      <th>XGBoost</th>\n",
       "      <td>0.996205</td>\n",
       "      <td>0.764706</td>\n",
       "      <td>0.866667</td>\n",
       "      <td>0.812500</td>\n",
       "      <td>0.932056</td>\n",
       "    </tr>\n",
       "    <tr>\n",
       "      <th>LogisticReg</th>\n",
       "      <td>0.901961</td>\n",
       "      <td>0.083333</td>\n",
       "      <td>0.933333</td>\n",
       "      <td>0.153005</td>\n",
       "      <td>0.917497</td>\n",
       "    </tr>\n",
       "  </tbody>\n",
       "</table>\n",
       "</div>"
      ],
      "text/plain": [
       "                  accuracy  precision    recall        f1   roc_auc\n",
       "RandomForest      0.997470   0.823529  0.933333  0.875000  0.965709\n",
       "LightGBM          0.996837   0.777778  0.933333  0.848485  0.965390\n",
       "GradientBoosting  0.996837   0.777778  0.933333  0.848485  0.965390\n",
       "DecisionTree      0.996205   0.736842  0.933333  0.823529  0.965070\n",
       "XGBoost           0.996205   0.764706  0.866667  0.812500  0.932056\n",
       "LogisticReg       0.901961   0.083333  0.933333  0.153005  0.917497"
      ]
     },
     "execution_count": 190,
     "metadata": {},
     "output_type": "execute_result"
    }
   ],
   "source": [
    "import time\n",
    "\n",
    "models = [lr_clf, dt_clf, rf_clf, lgbm_clf, xgb, gb_clf]\n",
    "model_names = ['LogisticReg', 'DecisionTree', 'RandomForest', 'LightGBM', 'XGBoost', 'GradientBoosting']\n",
    "\n",
    "start_time = time.time()\n",
    "results = get_result_pd(models, model_names, X_train_over, y_train_over, X_test, y_test)\n",
    "\n",
    "print('Fit time: ', time.time() - start_time)\n",
    "results.sort_values('accuracy', ascending=False)"
   ]
  },
  {
   "cell_type": "code",
   "execution_count": 191,
   "metadata": {},
   "outputs": [
    {
     "data": {
      "image/png": "[encoded data removed]",
      "text/plain": [
       "<Figure size 720x720 with 1 Axes>"
      ]
     },
     "metadata": {
      "needs_background": "light"
     },
     "output_type": "display_data"
    }
   ],
   "source": [
    "draw_roc_curve(models , model_names, X_test, y_test)"
   ]
  },
  {
   "cell_type": "markdown",
   "metadata": {},
   "source": [
    "테스트 적용"
   ]
  },
  {
   "cell_type": "code",
   "execution_count": 192,
   "metadata": {},
   "outputs": [],
   "source": [
    "features_test = test[[ 'Temperature', 'Humidity','Measure1',\n",
    "       'Measure2', 'Measure3', 'Measure4', 'Measure5', 'Measure6', 'Measure7',\n",
    "       'Measure8', 'Measure9', 'Measure10', 'Measure11', 'Measure12',\n",
    "       'Measure13', 'Measure14', 'Measure15']]"
   ]
  },
  {
   "cell_type": "code",
   "execution_count": 193,
   "metadata": {},
   "outputs": [],
   "source": [
    "test['Failure'] = xgb.predict(features_test)"
   ]
  },
  {
   "cell_type": "code",
   "execution_count": 194,
   "metadata": {},
   "outputs": [],
   "source": [
    "test.loc[test.Failure == 0, 'Failure'] = 'No'\n",
    "test.loc[test.Failure == 1, 'Failure'] = 'Yes'\n",
    "\n",
    "\n",
    "#people.loc[people.GENDER==2, 'GENDER'] = '여'\n"
   ]
  },
  {
   "cell_type": "code",
   "execution_count": 195,
   "metadata": {},
   "outputs": [],
   "source": [
    "result_test = test[['ID','Failure']]"
   ]
  },
  {
   "cell_type": "code",
   "execution_count": 197,
   "metadata": {},
   "outputs": [],
   "source": [
    "result_test.to_csv('submisson.csv')"
   ]
  },
  {
   "cell_type": "code",
   "execution_count": null,
   "metadata": {},
   "outputs": [],
   "source": []
  }
 ],
 "metadata": {
  "kernelspec": {
   "display_name": "Python 3.7.6 64-bit ('fc': conda)",
   "language": "python",
   "name": "python37664bitfccondac29b4e5ce89041d1a3470f64d92be1f3"
  },
  "language_info": {
   "codemirror_mode": {
    "name": "ipython",
    "version": 3
   },
   "file_extension": ".py",
   "mimetype": "text/x-python",
   "name": "python",
   "nbconvert_exporter": "python",
   "pygments_lexer": "ipython3",
   "version": "3.7.6"
  }
 },
 "nbformat": 4,
 "nbformat_minor": 4
}
